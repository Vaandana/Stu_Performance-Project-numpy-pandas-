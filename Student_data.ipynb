{
 "cells": [
  {
   "cell_type": "markdown",
   "id": "d73d67bc",
   "metadata": {},
   "source": [
    "# Student Performance Analysis"
   ]
  },
  {
   "cell_type": "markdown",
   "id": "fa07ac37",
   "metadata": {},
   "source": [
    "# IMPORTING THE LIBRARIES"
   ]
  },
  {
   "cell_type": "code",
   "execution_count": 1,
   "id": "16abef26",
   "metadata": {},
   "outputs": [],
   "source": [
    "import numpy as np \n",
    "import pandas as pd \n",
    "import matplotlib.pyplot as plt \n",
    "import seaborn as sns"
   ]
  },
  {
   "cell_type": "markdown",
   "id": "6ead2232",
   "metadata": {},
   "source": [
    "# Load the data set "
   ]
  },
  {
   "cell_type": "code",
   "execution_count": 2,
   "id": "1da97c6c",
   "metadata": {},
   "outputs": [],
   "source": [
    "df=pd.read_csv(r\"C:\\Users\\vanda\\OneDrive\\Desktop\\PySpider\\project1\\Student_performance_data _.csv\")"
   ]
  },
  {
   "cell_type": "markdown",
   "id": "c0c746a4",
   "metadata": {},
   "source": [
    "UNDERSTAND EACH COLUMN"
   ]
  },
  {
   "cell_type": "code",
   "execution_count": 3,
   "id": "3b4525be",
   "metadata": {},
   "outputs": [
    {
     "data": {
      "text/plain": [
       "Index(['StudentID', 'Age', 'Gender', 'Ethnicity', 'ParentalEducation',\n",
       "       'StudyTimeWeekly', 'Absences', 'Tutoring', 'ParentalSupport',\n",
       "       'Extracurricular', 'Sports', 'Music', 'Volunteering', 'GPA',\n",
       "       'GradeClass'],\n",
       "      dtype='object')"
      ]
     },
     "execution_count": 3,
     "metadata": {},
     "output_type": "execute_result"
    }
   ],
   "source": [
    "df.columns"
   ]
  },
  {
   "cell_type": "markdown",
   "id": "4ee39137",
   "metadata": {},
   "source": [
    "| **Column**          | **Description**                                              |\n",
    "| ------------------- | ------------------------------------------------------------ |\n",
    "| `StudentID`         | Unique student identifier                                    |\n",
    "| `Age`               | Age of student                                               |\n",
    "| `Gender`            | Encoded (likely 0 = Female, 1 = Male)                        |\n",
    "| `Ethnicity`         | Encoded categorical values                                   |\n",
    "| `ParentalEducation` | Encoded education level of parents                           |\n",
    "| `StudyTimeWeekly`   | Weekly study time (float)                                    |\n",
    "| `Absences`          | Total number of absences                                     |\n",
    "| `Tutoring`          | Attends tutoring (0 = No, 1 = Yes)                           |\n",
    "| `ParentalSupport`   | Encoded parental support rating                              |\n",
    "| `Extracurricular`   | Participates in extracurricular activities (0 = No, 1 = Yes) |\n",
    "| `Sports`            | Participates in sports (0 = No, 1 = Yes)                     |\n",
    "| `Music`             | Participates in music (0 = No, 1 = Yes)                      |\n",
    "| `Volunteering`      | Participates in volunteering (0 = No, 1 = Yes)               |\n",
    "| `GPA`               | Grade Point Average (float)                                  |\n",
    "| `GradeClass`        | Final class label (possibly categorical)                     |\n"
   ]
  },
  {
   "cell_type": "markdown",
   "id": "f28a7d16",
   "metadata": {},
   "source": [
    "GET THE INFORMATION OF COLUMNS AND NOTE THE OBSERVATION"
   ]
  },
  {
   "cell_type": "code",
   "execution_count": 4,
   "id": "f6a54a93",
   "metadata": {},
   "outputs": [
    {
     "name": "stdout",
     "output_type": "stream",
     "text": [
      "<class 'pandas.core.frame.DataFrame'>\n",
      "RangeIndex: 2392 entries, 0 to 2391\n",
      "Data columns (total 15 columns):\n",
      " #   Column             Non-Null Count  Dtype  \n",
      "---  ------             --------------  -----  \n",
      " 0   StudentID          2392 non-null   int64  \n",
      " 1   Age                2392 non-null   int64  \n",
      " 2   Gender             2392 non-null   int64  \n",
      " 3   Ethnicity          2392 non-null   int64  \n",
      " 4   ParentalEducation  2392 non-null   int64  \n",
      " 5   StudyTimeWeekly    2392 non-null   float64\n",
      " 6   Absences           2392 non-null   int64  \n",
      " 7   Tutoring           2392 non-null   int64  \n",
      " 8   ParentalSupport    2392 non-null   int64  \n",
      " 9   Extracurricular    2392 non-null   int64  \n",
      " 10  Sports             2392 non-null   int64  \n",
      " 11  Music              2392 non-null   int64  \n",
      " 12  Volunteering       2392 non-null   int64  \n",
      " 13  GPA                2392 non-null   float64\n",
      " 14  GradeClass         2392 non-null   float64\n",
      "dtypes: float64(3), int64(12)\n",
      "memory usage: 280.4 KB\n"
     ]
    }
   ],
   "source": [
    "df.info()"
   ]
  },
  {
   "cell_type": "markdown",
   "id": "64cbcb7d",
   "metadata": {},
   "source": [
    "understand the data inside the dataframe using head()"
   ]
  },
  {
   "cell_type": "code",
   "execution_count": 6,
   "id": "64d09bb2",
   "metadata": {},
   "outputs": [
    {
     "data": {
      "text/html": [
       "<div>\n",
       "<style scoped>\n",
       "    .dataframe tbody tr th:only-of-type {\n",
       "        vertical-align: middle;\n",
       "    }\n",
       "\n",
       "    .dataframe tbody tr th {\n",
       "        vertical-align: top;\n",
       "    }\n",
       "\n",
       "    .dataframe thead th {\n",
       "        text-align: right;\n",
       "    }\n",
       "</style>\n",
       "<table border=\"1\" class=\"dataframe\">\n",
       "  <thead>\n",
       "    <tr style=\"text-align: right;\">\n",
       "      <th></th>\n",
       "      <th>StudentID</th>\n",
       "      <th>Age</th>\n",
       "      <th>Gender</th>\n",
       "      <th>Ethnicity</th>\n",
       "      <th>ParentalEducation</th>\n",
       "      <th>StudyTimeWeekly</th>\n",
       "      <th>Absences</th>\n",
       "      <th>Tutoring</th>\n",
       "      <th>ParentalSupport</th>\n",
       "      <th>Extracurricular</th>\n",
       "      <th>Sports</th>\n",
       "      <th>Music</th>\n",
       "      <th>Volunteering</th>\n",
       "      <th>GPA</th>\n",
       "      <th>GradeClass</th>\n",
       "    </tr>\n",
       "  </thead>\n",
       "  <tbody>\n",
       "    <tr>\n",
       "      <th>0</th>\n",
       "      <td>1001</td>\n",
       "      <td>17</td>\n",
       "      <td>1</td>\n",
       "      <td>0</td>\n",
       "      <td>2</td>\n",
       "      <td>19.833723</td>\n",
       "      <td>7</td>\n",
       "      <td>1</td>\n",
       "      <td>2</td>\n",
       "      <td>0</td>\n",
       "      <td>0</td>\n",
       "      <td>1</td>\n",
       "      <td>0</td>\n",
       "      <td>2.929196</td>\n",
       "      <td>2.0</td>\n",
       "    </tr>\n",
       "    <tr>\n",
       "      <th>1</th>\n",
       "      <td>1002</td>\n",
       "      <td>18</td>\n",
       "      <td>0</td>\n",
       "      <td>0</td>\n",
       "      <td>1</td>\n",
       "      <td>15.408756</td>\n",
       "      <td>0</td>\n",
       "      <td>0</td>\n",
       "      <td>1</td>\n",
       "      <td>0</td>\n",
       "      <td>0</td>\n",
       "      <td>0</td>\n",
       "      <td>0</td>\n",
       "      <td>3.042915</td>\n",
       "      <td>1.0</td>\n",
       "    </tr>\n",
       "    <tr>\n",
       "      <th>2</th>\n",
       "      <td>1003</td>\n",
       "      <td>15</td>\n",
       "      <td>0</td>\n",
       "      <td>2</td>\n",
       "      <td>3</td>\n",
       "      <td>4.210570</td>\n",
       "      <td>26</td>\n",
       "      <td>0</td>\n",
       "      <td>2</td>\n",
       "      <td>0</td>\n",
       "      <td>0</td>\n",
       "      <td>0</td>\n",
       "      <td>0</td>\n",
       "      <td>0.112602</td>\n",
       "      <td>4.0</td>\n",
       "    </tr>\n",
       "    <tr>\n",
       "      <th>3</th>\n",
       "      <td>1004</td>\n",
       "      <td>17</td>\n",
       "      <td>1</td>\n",
       "      <td>0</td>\n",
       "      <td>3</td>\n",
       "      <td>10.028829</td>\n",
       "      <td>14</td>\n",
       "      <td>0</td>\n",
       "      <td>3</td>\n",
       "      <td>1</td>\n",
       "      <td>0</td>\n",
       "      <td>0</td>\n",
       "      <td>0</td>\n",
       "      <td>2.054218</td>\n",
       "      <td>3.0</td>\n",
       "    </tr>\n",
       "    <tr>\n",
       "      <th>4</th>\n",
       "      <td>1005</td>\n",
       "      <td>17</td>\n",
       "      <td>1</td>\n",
       "      <td>0</td>\n",
       "      <td>2</td>\n",
       "      <td>4.672495</td>\n",
       "      <td>17</td>\n",
       "      <td>1</td>\n",
       "      <td>3</td>\n",
       "      <td>0</td>\n",
       "      <td>0</td>\n",
       "      <td>0</td>\n",
       "      <td>0</td>\n",
       "      <td>1.288061</td>\n",
       "      <td>4.0</td>\n",
       "    </tr>\n",
       "    <tr>\n",
       "      <th>5</th>\n",
       "      <td>1006</td>\n",
       "      <td>18</td>\n",
       "      <td>0</td>\n",
       "      <td>0</td>\n",
       "      <td>1</td>\n",
       "      <td>8.191219</td>\n",
       "      <td>0</td>\n",
       "      <td>0</td>\n",
       "      <td>1</td>\n",
       "      <td>1</td>\n",
       "      <td>0</td>\n",
       "      <td>0</td>\n",
       "      <td>0</td>\n",
       "      <td>3.084184</td>\n",
       "      <td>1.0</td>\n",
       "    </tr>\n",
       "    <tr>\n",
       "      <th>6</th>\n",
       "      <td>1007</td>\n",
       "      <td>15</td>\n",
       "      <td>0</td>\n",
       "      <td>1</td>\n",
       "      <td>1</td>\n",
       "      <td>15.601680</td>\n",
       "      <td>10</td>\n",
       "      <td>0</td>\n",
       "      <td>3</td>\n",
       "      <td>0</td>\n",
       "      <td>1</td>\n",
       "      <td>0</td>\n",
       "      <td>0</td>\n",
       "      <td>2.748237</td>\n",
       "      <td>2.0</td>\n",
       "    </tr>\n",
       "    <tr>\n",
       "      <th>7</th>\n",
       "      <td>1008</td>\n",
       "      <td>15</td>\n",
       "      <td>1</td>\n",
       "      <td>1</td>\n",
       "      <td>4</td>\n",
       "      <td>15.424496</td>\n",
       "      <td>22</td>\n",
       "      <td>1</td>\n",
       "      <td>1</td>\n",
       "      <td>1</td>\n",
       "      <td>0</td>\n",
       "      <td>0</td>\n",
       "      <td>0</td>\n",
       "      <td>1.360143</td>\n",
       "      <td>4.0</td>\n",
       "    </tr>\n",
       "    <tr>\n",
       "      <th>8</th>\n",
       "      <td>1009</td>\n",
       "      <td>17</td>\n",
       "      <td>0</td>\n",
       "      <td>0</td>\n",
       "      <td>0</td>\n",
       "      <td>4.562008</td>\n",
       "      <td>1</td>\n",
       "      <td>0</td>\n",
       "      <td>2</td>\n",
       "      <td>0</td>\n",
       "      <td>1</td>\n",
       "      <td>0</td>\n",
       "      <td>1</td>\n",
       "      <td>2.896819</td>\n",
       "      <td>2.0</td>\n",
       "    </tr>\n",
       "    <tr>\n",
       "      <th>9</th>\n",
       "      <td>1010</td>\n",
       "      <td>16</td>\n",
       "      <td>1</td>\n",
       "      <td>0</td>\n",
       "      <td>1</td>\n",
       "      <td>18.444466</td>\n",
       "      <td>0</td>\n",
       "      <td>0</td>\n",
       "      <td>3</td>\n",
       "      <td>1</td>\n",
       "      <td>0</td>\n",
       "      <td>0</td>\n",
       "      <td>0</td>\n",
       "      <td>3.573474</td>\n",
       "      <td>0.0</td>\n",
       "    </tr>\n",
       "  </tbody>\n",
       "</table>\n",
       "</div>"
      ],
      "text/plain": [
       "   StudentID  Age  Gender  Ethnicity  ParentalEducation  StudyTimeWeekly  \\\n",
       "0       1001   17       1          0                  2        19.833723   \n",
       "1       1002   18       0          0                  1        15.408756   \n",
       "2       1003   15       0          2                  3         4.210570   \n",
       "3       1004   17       1          0                  3        10.028829   \n",
       "4       1005   17       1          0                  2         4.672495   \n",
       "5       1006   18       0          0                  1         8.191219   \n",
       "6       1007   15       0          1                  1        15.601680   \n",
       "7       1008   15       1          1                  4        15.424496   \n",
       "8       1009   17       0          0                  0         4.562008   \n",
       "9       1010   16       1          0                  1        18.444466   \n",
       "\n",
       "   Absences  Tutoring  ParentalSupport  Extracurricular  Sports  Music  \\\n",
       "0         7         1                2                0       0      1   \n",
       "1         0         0                1                0       0      0   \n",
       "2        26         0                2                0       0      0   \n",
       "3        14         0                3                1       0      0   \n",
       "4        17         1                3                0       0      0   \n",
       "5         0         0                1                1       0      0   \n",
       "6        10         0                3                0       1      0   \n",
       "7        22         1                1                1       0      0   \n",
       "8         1         0                2                0       1      0   \n",
       "9         0         0                3                1       0      0   \n",
       "\n",
       "   Volunteering       GPA  GradeClass  \n",
       "0             0  2.929196         2.0  \n",
       "1             0  3.042915         1.0  \n",
       "2             0  0.112602         4.0  \n",
       "3             0  2.054218         3.0  \n",
       "4             0  1.288061         4.0  \n",
       "5             0  3.084184         1.0  \n",
       "6             0  2.748237         2.0  \n",
       "7             0  1.360143         4.0  \n",
       "8             1  2.896819         2.0  \n",
       "9             0  3.573474         0.0  "
      ]
     },
     "execution_count": 6,
     "metadata": {},
     "output_type": "execute_result"
    }
   ],
   "source": [
    "df.head(10)"
   ]
  },
  {
   "cell_type": "markdown",
   "id": "84eec937",
   "metadata": {},
   "source": [
    "# Data cleaning"
   ]
  },
  {
   "cell_type": "markdown",
   "id": "ab65410d",
   "metadata": {},
   "source": [
    "1. Check for Missing Values"
   ]
  },
  {
   "cell_type": "code",
   "execution_count": 8,
   "id": "6e966f89",
   "metadata": {},
   "outputs": [
    {
     "data": {
      "text/plain": [
       "StudentID            0\n",
       "Age                  0\n",
       "Gender               0\n",
       "Ethnicity            0\n",
       "ParentalEducation    0\n",
       "StudyTimeWeekly      0\n",
       "Absences             0\n",
       "Tutoring             0\n",
       "ParentalSupport      0\n",
       "Extracurricular      0\n",
       "Sports               0\n",
       "Music                0\n",
       "Volunteering         0\n",
       "GPA                  0\n",
       "GradeClass           0\n",
       "dtype: int64"
      ]
     },
     "execution_count": 8,
     "metadata": {},
     "output_type": "execute_result"
    }
   ],
   "source": [
    "df.isnull().sum()\n"
   ]
  },
  {
   "cell_type": "markdown",
   "id": "e3f77c44",
   "metadata": {},
   "source": [
    "2. check and remove duplicates"
   ]
  },
  {
   "cell_type": "code",
   "execution_count": 9,
   "id": "655158c9",
   "metadata": {},
   "outputs": [
    {
     "data": {
      "text/plain": [
       "np.False_"
      ]
     },
     "execution_count": 9,
     "metadata": {},
     "output_type": "execute_result"
    }
   ],
   "source": [
    "df.duplicated().any()"
   ]
  },
  {
   "cell_type": "markdown",
   "id": "d3696f50",
   "metadata": {},
   "source": [
    "3. Review and Adjust Data Types\n"
   ]
  },
  {
   "cell_type": "code",
   "execution_count": 10,
   "id": "a1514ac0",
   "metadata": {},
   "outputs": [
    {
     "name": "stdout",
     "output_type": "stream",
     "text": [
      "<class 'pandas.core.frame.DataFrame'>\n",
      "RangeIndex: 2392 entries, 0 to 2391\n",
      "Data columns (total 15 columns):\n",
      " #   Column             Non-Null Count  Dtype  \n",
      "---  ------             --------------  -----  \n",
      " 0   StudentID          2392 non-null   int64  \n",
      " 1   Age                2392 non-null   int64  \n",
      " 2   Gender             2392 non-null   int64  \n",
      " 3   Ethnicity          2392 non-null   int64  \n",
      " 4   ParentalEducation  2392 non-null   int64  \n",
      " 5   StudyTimeWeekly    2392 non-null   float64\n",
      " 6   Absences           2392 non-null   int64  \n",
      " 7   Tutoring           2392 non-null   int64  \n",
      " 8   ParentalSupport    2392 non-null   int64  \n",
      " 9   Extracurricular    2392 non-null   int64  \n",
      " 10  Sports             2392 non-null   int64  \n",
      " 11  Music              2392 non-null   int64  \n",
      " 12  Volunteering       2392 non-null   int64  \n",
      " 13  GPA                2392 non-null   float64\n",
      " 14  GradeClass         2392 non-null   float64\n",
      "dtypes: float64(3), int64(12)\n",
      "memory usage: 280.4 KB\n"
     ]
    }
   ],
   "source": [
    "df.info()\n"
   ]
  },
  {
   "cell_type": "markdown",
   "id": "70123b5a",
   "metadata": {},
   "source": [
    "# DATA TRANSFORMATION"
   ]
  },
  {
   "cell_type": "markdown",
   "id": "9246033e",
   "metadata": {},
   "source": [
    "1. Round Float Columns "
   ]
  },
  {
   "cell_type": "code",
   "execution_count": 14,
   "id": "504a57d9",
   "metadata": {},
   "outputs": [],
   "source": [
    "df['GPA'] = df['GPA'].round(2)\n",
    "df['StudyTimeWeekly'] = df['StudyTimeWeekly'].round(2)\n"
   ]
  },
  {
   "cell_type": "code",
   "execution_count": 15,
   "id": "14d249b6",
   "metadata": {},
   "outputs": [
    {
     "data": {
      "text/html": [
       "<div>\n",
       "<style scoped>\n",
       "    .dataframe tbody tr th:only-of-type {\n",
       "        vertical-align: middle;\n",
       "    }\n",
       "\n",
       "    .dataframe tbody tr th {\n",
       "        vertical-align: top;\n",
       "    }\n",
       "\n",
       "    .dataframe thead th {\n",
       "        text-align: right;\n",
       "    }\n",
       "</style>\n",
       "<table border=\"1\" class=\"dataframe\">\n",
       "  <thead>\n",
       "    <tr style=\"text-align: right;\">\n",
       "      <th></th>\n",
       "      <th>StudentID</th>\n",
       "      <th>Age</th>\n",
       "      <th>Gender</th>\n",
       "      <th>Ethnicity</th>\n",
       "      <th>ParentalEducation</th>\n",
       "      <th>StudyTimeWeekly</th>\n",
       "      <th>Absences</th>\n",
       "      <th>Tutoring</th>\n",
       "      <th>ParentalSupport</th>\n",
       "      <th>Extracurricular</th>\n",
       "      <th>Sports</th>\n",
       "      <th>Music</th>\n",
       "      <th>Volunteering</th>\n",
       "      <th>GPA</th>\n",
       "      <th>GradeClass</th>\n",
       "    </tr>\n",
       "  </thead>\n",
       "  <tbody>\n",
       "    <tr>\n",
       "      <th>0</th>\n",
       "      <td>1001</td>\n",
       "      <td>17</td>\n",
       "      <td>1</td>\n",
       "      <td>0</td>\n",
       "      <td>2</td>\n",
       "      <td>19.83</td>\n",
       "      <td>7</td>\n",
       "      <td>1</td>\n",
       "      <td>2</td>\n",
       "      <td>0</td>\n",
       "      <td>0</td>\n",
       "      <td>1</td>\n",
       "      <td>0</td>\n",
       "      <td>2.93</td>\n",
       "      <td>2.0</td>\n",
       "    </tr>\n",
       "    <tr>\n",
       "      <th>1</th>\n",
       "      <td>1002</td>\n",
       "      <td>18</td>\n",
       "      <td>0</td>\n",
       "      <td>0</td>\n",
       "      <td>1</td>\n",
       "      <td>15.41</td>\n",
       "      <td>0</td>\n",
       "      <td>0</td>\n",
       "      <td>1</td>\n",
       "      <td>0</td>\n",
       "      <td>0</td>\n",
       "      <td>0</td>\n",
       "      <td>0</td>\n",
       "      <td>3.04</td>\n",
       "      <td>1.0</td>\n",
       "    </tr>\n",
       "    <tr>\n",
       "      <th>2</th>\n",
       "      <td>1003</td>\n",
       "      <td>15</td>\n",
       "      <td>0</td>\n",
       "      <td>2</td>\n",
       "      <td>3</td>\n",
       "      <td>4.21</td>\n",
       "      <td>26</td>\n",
       "      <td>0</td>\n",
       "      <td>2</td>\n",
       "      <td>0</td>\n",
       "      <td>0</td>\n",
       "      <td>0</td>\n",
       "      <td>0</td>\n",
       "      <td>0.11</td>\n",
       "      <td>4.0</td>\n",
       "    </tr>\n",
       "    <tr>\n",
       "      <th>3</th>\n",
       "      <td>1004</td>\n",
       "      <td>17</td>\n",
       "      <td>1</td>\n",
       "      <td>0</td>\n",
       "      <td>3</td>\n",
       "      <td>10.03</td>\n",
       "      <td>14</td>\n",
       "      <td>0</td>\n",
       "      <td>3</td>\n",
       "      <td>1</td>\n",
       "      <td>0</td>\n",
       "      <td>0</td>\n",
       "      <td>0</td>\n",
       "      <td>2.05</td>\n",
       "      <td>3.0</td>\n",
       "    </tr>\n",
       "    <tr>\n",
       "      <th>4</th>\n",
       "      <td>1005</td>\n",
       "      <td>17</td>\n",
       "      <td>1</td>\n",
       "      <td>0</td>\n",
       "      <td>2</td>\n",
       "      <td>4.67</td>\n",
       "      <td>17</td>\n",
       "      <td>1</td>\n",
       "      <td>3</td>\n",
       "      <td>0</td>\n",
       "      <td>0</td>\n",
       "      <td>0</td>\n",
       "      <td>0</td>\n",
       "      <td>1.29</td>\n",
       "      <td>4.0</td>\n",
       "    </tr>\n",
       "  </tbody>\n",
       "</table>\n",
       "</div>"
      ],
      "text/plain": [
       "   StudentID  Age  Gender  Ethnicity  ParentalEducation  StudyTimeWeekly  \\\n",
       "0       1001   17       1          0                  2            19.83   \n",
       "1       1002   18       0          0                  1            15.41   \n",
       "2       1003   15       0          2                  3             4.21   \n",
       "3       1004   17       1          0                  3            10.03   \n",
       "4       1005   17       1          0                  2             4.67   \n",
       "\n",
       "   Absences  Tutoring  ParentalSupport  Extracurricular  Sports  Music  \\\n",
       "0         7         1                2                0       0      1   \n",
       "1         0         0                1                0       0      0   \n",
       "2        26         0                2                0       0      0   \n",
       "3        14         0                3                1       0      0   \n",
       "4        17         1                3                0       0      0   \n",
       "\n",
       "   Volunteering   GPA  GradeClass  \n",
       "0             0  2.93         2.0  \n",
       "1             0  3.04         1.0  \n",
       "2             0  0.11         4.0  \n",
       "3             0  2.05         3.0  \n",
       "4             0  1.29         4.0  "
      ]
     },
     "execution_count": 15,
     "metadata": {},
     "output_type": "execute_result"
    }
   ],
   "source": [
    "df.head()"
   ]
  },
  {
   "cell_type": "markdown",
   "id": "605498f7",
   "metadata": {},
   "source": [
    "2. Format Categorical Values"
   ]
  },
  {
   "cell_type": "code",
   "execution_count": 16,
   "id": "0e95f777",
   "metadata": {},
   "outputs": [],
   "source": [
    "df['Gender'] = df['Gender'].map({0: 'Female', 1: 'Male'})\n"
   ]
  },
  {
   "cell_type": "code",
   "execution_count": 17,
   "id": "6d66a7f7",
   "metadata": {},
   "outputs": [
    {
     "data": {
      "text/html": [
       "<div>\n",
       "<style scoped>\n",
       "    .dataframe tbody tr th:only-of-type {\n",
       "        vertical-align: middle;\n",
       "    }\n",
       "\n",
       "    .dataframe tbody tr th {\n",
       "        vertical-align: top;\n",
       "    }\n",
       "\n",
       "    .dataframe thead th {\n",
       "        text-align: right;\n",
       "    }\n",
       "</style>\n",
       "<table border=\"1\" class=\"dataframe\">\n",
       "  <thead>\n",
       "    <tr style=\"text-align: right;\">\n",
       "      <th></th>\n",
       "      <th>StudentID</th>\n",
       "      <th>Age</th>\n",
       "      <th>Gender</th>\n",
       "      <th>Ethnicity</th>\n",
       "      <th>ParentalEducation</th>\n",
       "      <th>StudyTimeWeekly</th>\n",
       "      <th>Absences</th>\n",
       "      <th>Tutoring</th>\n",
       "      <th>ParentalSupport</th>\n",
       "      <th>Extracurricular</th>\n",
       "      <th>Sports</th>\n",
       "      <th>Music</th>\n",
       "      <th>Volunteering</th>\n",
       "      <th>GPA</th>\n",
       "      <th>GradeClass</th>\n",
       "    </tr>\n",
       "  </thead>\n",
       "  <tbody>\n",
       "    <tr>\n",
       "      <th>0</th>\n",
       "      <td>1001</td>\n",
       "      <td>17</td>\n",
       "      <td>Male</td>\n",
       "      <td>0</td>\n",
       "      <td>2</td>\n",
       "      <td>19.83</td>\n",
       "      <td>7</td>\n",
       "      <td>1</td>\n",
       "      <td>2</td>\n",
       "      <td>0</td>\n",
       "      <td>0</td>\n",
       "      <td>1</td>\n",
       "      <td>0</td>\n",
       "      <td>2.93</td>\n",
       "      <td>2.0</td>\n",
       "    </tr>\n",
       "    <tr>\n",
       "      <th>1</th>\n",
       "      <td>1002</td>\n",
       "      <td>18</td>\n",
       "      <td>Female</td>\n",
       "      <td>0</td>\n",
       "      <td>1</td>\n",
       "      <td>15.41</td>\n",
       "      <td>0</td>\n",
       "      <td>0</td>\n",
       "      <td>1</td>\n",
       "      <td>0</td>\n",
       "      <td>0</td>\n",
       "      <td>0</td>\n",
       "      <td>0</td>\n",
       "      <td>3.04</td>\n",
       "      <td>1.0</td>\n",
       "    </tr>\n",
       "    <tr>\n",
       "      <th>2</th>\n",
       "      <td>1003</td>\n",
       "      <td>15</td>\n",
       "      <td>Female</td>\n",
       "      <td>2</td>\n",
       "      <td>3</td>\n",
       "      <td>4.21</td>\n",
       "      <td>26</td>\n",
       "      <td>0</td>\n",
       "      <td>2</td>\n",
       "      <td>0</td>\n",
       "      <td>0</td>\n",
       "      <td>0</td>\n",
       "      <td>0</td>\n",
       "      <td>0.11</td>\n",
       "      <td>4.0</td>\n",
       "    </tr>\n",
       "    <tr>\n",
       "      <th>3</th>\n",
       "      <td>1004</td>\n",
       "      <td>17</td>\n",
       "      <td>Male</td>\n",
       "      <td>0</td>\n",
       "      <td>3</td>\n",
       "      <td>10.03</td>\n",
       "      <td>14</td>\n",
       "      <td>0</td>\n",
       "      <td>3</td>\n",
       "      <td>1</td>\n",
       "      <td>0</td>\n",
       "      <td>0</td>\n",
       "      <td>0</td>\n",
       "      <td>2.05</td>\n",
       "      <td>3.0</td>\n",
       "    </tr>\n",
       "    <tr>\n",
       "      <th>4</th>\n",
       "      <td>1005</td>\n",
       "      <td>17</td>\n",
       "      <td>Male</td>\n",
       "      <td>0</td>\n",
       "      <td>2</td>\n",
       "      <td>4.67</td>\n",
       "      <td>17</td>\n",
       "      <td>1</td>\n",
       "      <td>3</td>\n",
       "      <td>0</td>\n",
       "      <td>0</td>\n",
       "      <td>0</td>\n",
       "      <td>0</td>\n",
       "      <td>1.29</td>\n",
       "      <td>4.0</td>\n",
       "    </tr>\n",
       "  </tbody>\n",
       "</table>\n",
       "</div>"
      ],
      "text/plain": [
       "   StudentID  Age  Gender  Ethnicity  ParentalEducation  StudyTimeWeekly  \\\n",
       "0       1001   17    Male          0                  2            19.83   \n",
       "1       1002   18  Female          0                  1            15.41   \n",
       "2       1003   15  Female          2                  3             4.21   \n",
       "3       1004   17    Male          0                  3            10.03   \n",
       "4       1005   17    Male          0                  2             4.67   \n",
       "\n",
       "   Absences  Tutoring  ParentalSupport  Extracurricular  Sports  Music  \\\n",
       "0         7         1                2                0       0      1   \n",
       "1         0         0                1                0       0      0   \n",
       "2        26         0                2                0       0      0   \n",
       "3        14         0                3                1       0      0   \n",
       "4        17         1                3                0       0      0   \n",
       "\n",
       "   Volunteering   GPA  GradeClass  \n",
       "0             0  2.93         2.0  \n",
       "1             0  3.04         1.0  \n",
       "2             0  0.11         4.0  \n",
       "3             0  2.05         3.0  \n",
       "4             0  1.29         4.0  "
      ]
     },
     "execution_count": 17,
     "metadata": {},
     "output_type": "execute_result"
    }
   ],
   "source": [
    "df.head()"
   ]
  },
  {
   "cell_type": "markdown",
   "id": "18461e2a",
   "metadata": {},
   "source": [
    "3. Convert Encoded Categorical Columns to Readable Labels\n"
   ]
  },
  {
   "cell_type": "code",
   "execution_count": 18,
   "id": "219b60e9",
   "metadata": {},
   "outputs": [],
   "source": [
    "df['Tutoring'] = df['Tutoring'].map({0: 'No', 1: 'Yes'})\n",
    "df['Extracurricular'] = df['Extracurricular'].map({0: 'No', 1: 'Yes'})\n",
    "df['Sports'] = df['Sports'].map({0: 'No', 1: 'Yes'})\n",
    "df['Music'] = df['Music'].map({0: 'No', 1: 'Yes'})\n",
    "df['Volunteering'] = df['Volunteering'].map({0: 'No', 1: 'Yes'})"
   ]
  },
  {
   "cell_type": "code",
   "execution_count": 19,
   "id": "59d9678b",
   "metadata": {},
   "outputs": [
    {
     "data": {
      "text/html": [
       "<div>\n",
       "<style scoped>\n",
       "    .dataframe tbody tr th:only-of-type {\n",
       "        vertical-align: middle;\n",
       "    }\n",
       "\n",
       "    .dataframe tbody tr th {\n",
       "        vertical-align: top;\n",
       "    }\n",
       "\n",
       "    .dataframe thead th {\n",
       "        text-align: right;\n",
       "    }\n",
       "</style>\n",
       "<table border=\"1\" class=\"dataframe\">\n",
       "  <thead>\n",
       "    <tr style=\"text-align: right;\">\n",
       "      <th></th>\n",
       "      <th>StudentID</th>\n",
       "      <th>Age</th>\n",
       "      <th>Gender</th>\n",
       "      <th>Ethnicity</th>\n",
       "      <th>ParentalEducation</th>\n",
       "      <th>StudyTimeWeekly</th>\n",
       "      <th>Absences</th>\n",
       "      <th>Tutoring</th>\n",
       "      <th>ParentalSupport</th>\n",
       "      <th>Extracurricular</th>\n",
       "      <th>Sports</th>\n",
       "      <th>Music</th>\n",
       "      <th>Volunteering</th>\n",
       "      <th>GPA</th>\n",
       "      <th>GradeClass</th>\n",
       "    </tr>\n",
       "  </thead>\n",
       "  <tbody>\n",
       "    <tr>\n",
       "      <th>0</th>\n",
       "      <td>1001</td>\n",
       "      <td>17</td>\n",
       "      <td>Male</td>\n",
       "      <td>0</td>\n",
       "      <td>2</td>\n",
       "      <td>19.83</td>\n",
       "      <td>7</td>\n",
       "      <td>Yes</td>\n",
       "      <td>2</td>\n",
       "      <td>No</td>\n",
       "      <td>No</td>\n",
       "      <td>Yes</td>\n",
       "      <td>No</td>\n",
       "      <td>2.93</td>\n",
       "      <td>2.0</td>\n",
       "    </tr>\n",
       "    <tr>\n",
       "      <th>1</th>\n",
       "      <td>1002</td>\n",
       "      <td>18</td>\n",
       "      <td>Female</td>\n",
       "      <td>0</td>\n",
       "      <td>1</td>\n",
       "      <td>15.41</td>\n",
       "      <td>0</td>\n",
       "      <td>No</td>\n",
       "      <td>1</td>\n",
       "      <td>No</td>\n",
       "      <td>No</td>\n",
       "      <td>No</td>\n",
       "      <td>No</td>\n",
       "      <td>3.04</td>\n",
       "      <td>1.0</td>\n",
       "    </tr>\n",
       "    <tr>\n",
       "      <th>2</th>\n",
       "      <td>1003</td>\n",
       "      <td>15</td>\n",
       "      <td>Female</td>\n",
       "      <td>2</td>\n",
       "      <td>3</td>\n",
       "      <td>4.21</td>\n",
       "      <td>26</td>\n",
       "      <td>No</td>\n",
       "      <td>2</td>\n",
       "      <td>No</td>\n",
       "      <td>No</td>\n",
       "      <td>No</td>\n",
       "      <td>No</td>\n",
       "      <td>0.11</td>\n",
       "      <td>4.0</td>\n",
       "    </tr>\n",
       "    <tr>\n",
       "      <th>3</th>\n",
       "      <td>1004</td>\n",
       "      <td>17</td>\n",
       "      <td>Male</td>\n",
       "      <td>0</td>\n",
       "      <td>3</td>\n",
       "      <td>10.03</td>\n",
       "      <td>14</td>\n",
       "      <td>No</td>\n",
       "      <td>3</td>\n",
       "      <td>Yes</td>\n",
       "      <td>No</td>\n",
       "      <td>No</td>\n",
       "      <td>No</td>\n",
       "      <td>2.05</td>\n",
       "      <td>3.0</td>\n",
       "    </tr>\n",
       "    <tr>\n",
       "      <th>4</th>\n",
       "      <td>1005</td>\n",
       "      <td>17</td>\n",
       "      <td>Male</td>\n",
       "      <td>0</td>\n",
       "      <td>2</td>\n",
       "      <td>4.67</td>\n",
       "      <td>17</td>\n",
       "      <td>Yes</td>\n",
       "      <td>3</td>\n",
       "      <td>No</td>\n",
       "      <td>No</td>\n",
       "      <td>No</td>\n",
       "      <td>No</td>\n",
       "      <td>1.29</td>\n",
       "      <td>4.0</td>\n",
       "    </tr>\n",
       "  </tbody>\n",
       "</table>\n",
       "</div>"
      ],
      "text/plain": [
       "   StudentID  Age  Gender  Ethnicity  ParentalEducation  StudyTimeWeekly  \\\n",
       "0       1001   17    Male          0                  2            19.83   \n",
       "1       1002   18  Female          0                  1            15.41   \n",
       "2       1003   15  Female          2                  3             4.21   \n",
       "3       1004   17    Male          0                  3            10.03   \n",
       "4       1005   17    Male          0                  2             4.67   \n",
       "\n",
       "   Absences Tutoring  ParentalSupport Extracurricular Sports Music  \\\n",
       "0         7      Yes                2              No     No   Yes   \n",
       "1         0       No                1              No     No    No   \n",
       "2        26       No                2              No     No    No   \n",
       "3        14       No                3             Yes     No    No   \n",
       "4        17      Yes                3              No     No    No   \n",
       "\n",
       "  Volunteering   GPA  GradeClass  \n",
       "0           No  2.93         2.0  \n",
       "1           No  3.04         1.0  \n",
       "2           No  0.11         4.0  \n",
       "3           No  2.05         3.0  \n",
       "4           No  1.29         4.0  "
      ]
     },
     "execution_count": 19,
     "metadata": {},
     "output_type": "execute_result"
    }
   ],
   "source": [
    "df.head()"
   ]
  },
  {
   "cell_type": "markdown",
   "id": "bdb7c387",
   "metadata": {},
   "source": [
    "# Data Analysis"
   ]
  },
  {
   "cell_type": "markdown",
   "id": "d913d4fc",
   "metadata": {},
   "source": [
    "1. How many male and female students are there."
   ]
  },
  {
   "cell_type": "code",
   "execution_count": 21,
   "id": "e58f26fe",
   "metadata": {},
   "outputs": [
    {
     "data": {
      "text/plain": [
       "Gender\n",
       "Male      1222\n",
       "Female    1170\n",
       "Name: count, dtype: int64"
      ]
     },
     "execution_count": 21,
     "metadata": {},
     "output_type": "execute_result"
    }
   ],
   "source": [
    "df['Gender'].value_counts()\n"
   ]
  },
  {
   "cell_type": "markdown",
   "id": "ec77a5eb",
   "metadata": {},
   "source": [
    "2. How many students receive tutoring support?"
   ]
  },
  {
   "cell_type": "code",
   "execution_count": 22,
   "id": "445caee9",
   "metadata": {},
   "outputs": [
    {
     "data": {
      "text/plain": [
       "Tutoring\n",
       "No     1671\n",
       "Yes     721\n",
       "Name: count, dtype: int64"
      ]
     },
     "execution_count": 22,
     "metadata": {},
     "output_type": "execute_result"
    }
   ],
   "source": [
    "df['Tutoring'].value_counts()\n"
   ]
  },
  {
   "cell_type": "markdown",
   "id": "0199f127",
   "metadata": {},
   "source": [
    "3. How many students participate in extracurricular activities?"
   ]
  },
  {
   "cell_type": "code",
   "execution_count": 23,
   "id": "b3135f58",
   "metadata": {},
   "outputs": [
    {
     "data": {
      "text/plain": [
       "Extracurricular\n",
       "No     1475\n",
       "Yes     917\n",
       "Name: count, dtype: int64"
      ]
     },
     "execution_count": 23,
     "metadata": {},
     "output_type": "execute_result"
    }
   ],
   "source": [
    "df['Extracurricular'].value_counts()\n"
   ]
  },
  {
   "cell_type": "markdown",
   "id": "c5ee68af",
   "metadata": {},
   "source": [
    "4. What is the distribution of students across different grade classes?"
   ]
  },
  {
   "cell_type": "code",
   "execution_count": 25,
   "id": "609a7cee",
   "metadata": {},
   "outputs": [
    {
     "data": {
      "text/plain": [
       "GradeClass\n",
       "4.0    1211\n",
       "3.0     414\n",
       "2.0     391\n",
       "1.0     269\n",
       "0.0     107\n",
       "Name: count, dtype: int64"
      ]
     },
     "execution_count": 25,
     "metadata": {},
     "output_type": "execute_result"
    }
   ],
   "source": [
    "df['GradeClass'].value_counts()\n"
   ]
  },
  {
   "cell_type": "markdown",
   "id": "339d04ad",
   "metadata": {},
   "source": [
    "5. What is the average GPA for male and female students?"
   ]
  },
  {
   "cell_type": "code",
   "execution_count": 26,
   "id": "e473a609",
   "metadata": {},
   "outputs": [
    {
     "data": {
      "text/plain": [
       "Gender\n",
       "Female    1.918735\n",
       "Male      1.894124\n",
       "Name: GPA, dtype: float64"
      ]
     },
     "execution_count": 26,
     "metadata": {},
     "output_type": "execute_result"
    }
   ],
   "source": [
    "df.groupby('Gender')['GPA'].mean()\n"
   ]
  },
  {
   "cell_type": "markdown",
   "id": "7800af91",
   "metadata": {},
   "source": [
    "6. Does tutoring improve student GPA?"
   ]
  },
  {
   "cell_type": "code",
   "execution_count": 27,
   "id": "5bd74bce",
   "metadata": {},
   "outputs": [
    {
     "data": {
      "text/plain": [
       "Tutoring\n",
       "No     1.818941\n",
       "Yes    2.108308\n",
       "Name: GPA, dtype: float64"
      ]
     },
     "execution_count": 27,
     "metadata": {},
     "output_type": "execute_result"
    }
   ],
   "source": [
    "df.groupby('Tutoring')['GPA'].mean()\n"
   ]
  },
  {
   "cell_type": "markdown",
   "id": "6d5ca92b",
   "metadata": {},
   "source": [
    "7. Is there any relationship between parents' education level and student GPA?"
   ]
  },
  {
   "cell_type": "code",
   "execution_count": 29,
   "id": "85d7caf7",
   "metadata": {},
   "outputs": [
    {
     "data": {
      "text/plain": [
       "ParentalEducation\n",
       "0    1.893128\n",
       "1    1.943777\n",
       "2    1.929957\n",
       "3    1.809019\n",
       "4    1.816250\n",
       "Name: GPA, dtype: float64"
      ]
     },
     "execution_count": 29,
     "metadata": {},
     "output_type": "execute_result"
    }
   ],
   "source": [
    "df.groupby('ParentalEducation')['GPA'].mean()\n"
   ]
  },
  {
   "cell_type": "markdown",
   "id": "654b83f9",
   "metadata": {},
   "source": [
    "8. Which numeric features are most correlated with GPA?"
   ]
  },
  {
   "cell_type": "code",
   "execution_count": 30,
   "id": "13b6821f",
   "metadata": {},
   "outputs": [
    {
     "data": {
      "text/plain": [
       "GPA                  1.000000\n",
       "ParentalSupport      0.190821\n",
       "StudyTimeWeekly      0.179193\n",
       "Ethnicity            0.027796\n",
       "Age                  0.000273\n",
       "StudentID           -0.002715\n",
       "ParentalEducation   -0.035758\n",
       "GradeClass          -0.782821\n",
       "Absences            -0.919302\n",
       "Name: GPA, dtype: float64"
      ]
     },
     "execution_count": 30,
     "metadata": {},
     "output_type": "execute_result"
    }
   ],
   "source": [
    "df.corr(numeric_only=True)['GPA'].sort_values(ascending=False) # This helps identify important academic predictors.\n"
   ]
  },
  {
   "cell_type": "markdown",
   "id": "80257667",
   "metadata": {},
   "source": [
    "9. Are students who volunteer more regular in attendance?"
   ]
  },
  {
   "cell_type": "code",
   "execution_count": 31,
   "id": "7431ae81",
   "metadata": {},
   "outputs": [
    {
     "data": {
      "text/plain": [
       "Volunteering\n",
       "No     14.609127\n",
       "Yes    14.178191\n",
       "Name: Absences, dtype: float64"
      ]
     },
     "execution_count": 31,
     "metadata": {},
     "output_type": "execute_result"
    }
   ],
   "source": [
    "df.groupby('Volunteering')['Absences'].mean()\n"
   ]
  },
  {
   "cell_type": "markdown",
   "id": "42e67717",
   "metadata": {},
   "source": [
    "10. Does participation in music activities affect GPA?"
   ]
  },
  {
   "cell_type": "code",
   "execution_count": 32,
   "id": "38733feb",
   "metadata": {},
   "outputs": [
    {
     "data": {
      "text/plain": [
       "Music\n",
       "No     1.872998\n",
       "Yes    2.041423\n",
       "Name: GPA, dtype: float64"
      ]
     },
     "execution_count": 32,
     "metadata": {},
     "output_type": "execute_result"
    }
   ],
   "source": [
    "df.groupby('Music')['GPA'].mean()\n",
    "\n",
    "#Analyzes whether musical involvement correlates with academic performance.\n"
   ]
  },
  {
   "cell_type": "markdown",
   "id": "03f69771",
   "metadata": {},
   "source": [
    "11. Do students involved in extracurricular activities have fewer absences?"
   ]
  },
  {
   "cell_type": "code",
   "execution_count": 33,
   "id": "658c0ce6",
   "metadata": {},
   "outputs": [
    {
     "data": {
      "text/plain": [
       "Extracurricular\n",
       "No     14.538983\n",
       "Yes    14.545256\n",
       "Name: Absences, dtype: float64"
      ]
     },
     "execution_count": 33,
     "metadata": {},
     "output_type": "execute_result"
    }
   ],
   "source": [
    "df.groupby('Extracurricular')['Absences'].mean()\n",
    "\n",
    "# Tests the discipline or balance between activities and attendance."
   ]
  },
  {
   "cell_type": "markdown",
   "id": "19dd22ac",
   "metadata": {},
   "source": [
    "# Data Visualization"
   ]
  },
  {
   "cell_type": "markdown",
   "id": "90cd4c16",
   "metadata": {},
   "source": [
    "1. display the count of male and female students"
   ]
  },
  {
   "cell_type": "code",
   "execution_count": 34,
   "id": "bb58a8ee",
   "metadata": {},
   "outputs": [
    {
     "data": {
      "image/png": "[encoded data removed]",
      "text/plain": [
       "<Figure size 800x400 with 1 Axes>"
      ]
     },
     "metadata": {},
     "output_type": "display_data"
    }
   ],
   "source": [
    "plt.figure(figsize=(8, 4))\n",
    "c = sns.countplot(data=df, x='Gender')\n",
    "c.bar_label(c.containers[0])\n",
    "plt.title('Gender Distribution')\n",
    "plt.xlabel('Gender')\n",
    "plt.ylabel('Count')\n",
    "plt.show()\n"
   ]
  },
  {
   "cell_type": "markdown",
   "id": "4dc7af9b",
   "metadata": {},
   "source": [
    "Observation:\n",
    "\n",
    "---> The chart shows the number of male and female students in the dataset.\n",
    "\n",
    "---> One gender has a higher count, indicating possible gender imbalance in the sample"
   ]
  },
  {
   "cell_type": "markdown",
   "id": "467e707f",
   "metadata": {},
   "source": [
    "2. visualize how GPA values are distributed "
   ]
  },
  {
   "cell_type": "code",
   "execution_count": 37,
   "id": "1fc87801",
   "metadata": {},
   "outputs": [
    {
     "data": {
      "image/png": "[encoded data removed]",
      "text/plain": [
       "<Figure size 1000x400 with 1 Axes>"
      ]
     },
     "metadata": {},
     "output_type": "display_data"
    }
   ],
   "source": [
    "plt.figure(figsize=(10, 4))\n",
    "h = sns.histplot(data=df, x='GPA', bins=15, color='skyblue')\n",
    "h.bar_label(h.containers[0])\n",
    "plt.title('Distribution of GPA')\n",
    "plt.xlabel('GPA')\n",
    "plt.ylabel('Count')\n",
    "plt.show()\n"
   ]
  },
  {
   "cell_type": "markdown",
   "id": "bb0661f4",
   "metadata": {},
   "source": [
    "Observation:\n",
    "\n",
    "---> Most students have a GPA between 2.5 and 3.5.\n",
    "\n",
    "---> Very few students are on the extreme low or high ends.\n",
    "\n",
    "---> The distribution shows a slight central tendency, indicating average performance overall."
   ]
  },
  {
   "cell_type": "markdown",
   "id": "fb08635c",
   "metadata": {},
   "source": [
    "3. view the smooth distribution of weekly study hours"
   ]
  },
  {
   "cell_type": "code",
   "execution_count": 39,
   "id": "d38d3e07",
   "metadata": {},
   "outputs": [
    {
     "data": {
      "image/png": "[encoded data removed]",
      "text/plain": [
       "<Figure size 1000x400 with 1 Axes>"
      ]
     },
     "metadata": {},
     "output_type": "display_data"
    }
   ],
   "source": [
    "plt.figure(figsize=(10, 4))\n",
    "sns.kdeplot(data=df, x='StudyTimeWeekly', fill=True, color='green')\n",
    "plt.title('Density Plot of Weekly Study Time')\n",
    "plt.xlabel('Study Time (hours)')\n",
    "plt.ylabel('Density')\n",
    "plt.show()\n"
   ]
  },
  {
   "cell_type": "markdown",
   "id": "d95bbd07",
   "metadata": {},
   "source": [
    "Observation:\n",
    "\n",
    "---> Most students study between 5 and 15 hours per week.\n",
    "\n",
    "---> A smooth peak indicates a concentration around 10 hours, with a few outliers studying more."
   ]
  },
  {
   "cell_type": "markdown",
   "id": "1c1dcb5f",
   "metadata": {},
   "source": [
    "4. visualize the proportion of students across grade classes"
   ]
  },
  {
   "cell_type": "code",
   "execution_count": 41,
   "id": "1349d944",
   "metadata": {},
   "outputs": [
    {
     "data": {
      "image/png": "[encoded data removed]",
      "text/plain": [
       "<Figure size 600x500 with 1 Axes>"
      ]
     },
     "metadata": {},
     "output_type": "display_data"
    }
   ],
   "source": [
    "grade_counts = df['GradeClass'].value_counts()\n",
    "\n",
    "plt.figure(figsize=(6, 5))\n",
    "plt.pie(grade_counts, labels=grade_counts.index, autopct='%1.1f%%', startangle=90)\n",
    "plt.title('Distribution of Students by Grade Class')\n",
    "plt.axis('equal')\n",
    "plt.show()\n"
   ]
  },
  {
   "cell_type": "markdown",
   "id": "8739bd7a",
   "metadata": {},
   "source": [
    "Observation:\n",
    "\n",
    "---> The chart shows that most students fall into Grade B and Grade C.\n",
    "\n",
    "---> Very few students are in Grade A or Grade F, indicating a bell-curve-like spread of academic performance.\n",
    "\n"
   ]
  },
  {
   "cell_type": "markdown",
   "id": "ba6ec2d3",
   "metadata": {},
   "source": [
    "5. compare average GPA between students who receive tutoring and those who don’t"
   ]
  },
  {
   "cell_type": "code",
   "execution_count": 47,
   "id": "87e82a5f",
   "metadata": {},
   "outputs": [
    {
     "name": "stderr",
     "output_type": "stream",
     "text": [
      "C:\\Users\\vanda\\Flutter projects\\digitome_app\\ipykernel_7556\\583717783.py:2: FutureWarning: \n",
      "\n",
      "Passing `palette` without assigning `hue` is deprecated and will be removed in v0.14.0. Assign the `x` variable to `hue` and set `legend=False` for the same effect.\n",
      "\n",
      "  bar = sns.barplot(data=df, x='Tutoring', y='GPA', estimator='mean', palette='pastel')\n"
     ]
    },
    {
     "data": {
      "image/png": "[encoded data removed]",
      "text/plain": [
       "<Figure size 600x400 with 1 Axes>"
      ]
     },
     "metadata": {},
     "output_type": "display_data"
    }
   ],
   "source": [
    "plt.figure(figsize=(6, 4))\n",
    "bar = sns.barplot(data=df, x='Tutoring', y='GPA', estimator='mean', palette='pastel')\n",
    "\n",
    "# Fix: Add labels slightly above each bar so even small bars are visible\n",
    "for container in bar.containers:\n",
    "    bar.bar_label(container, fmt='%.2f', label_type='edge', padding=3)\n",
    "\n",
    "plt.title('Average GPA Based on Tutoring')\n",
    "plt.xlabel('Tutoring')\n",
    "plt.ylabel('Average GPA')\n",
    "plt.tight_layout()\n",
    "plt.show()\n"
   ]
  },
  {
   "cell_type": "markdown",
   "id": "2216c9ed",
   "metadata": {},
   "source": [
    "Observation:\n",
    "\n",
    "---> Students who receive tutoring tend to have a higher average GPA.\n",
    "\n",
    "----> This shows a positive influence of tutoring on academic performance.\n",
    "\n"
   ]
  },
  {
   "cell_type": "markdown",
   "id": "8f5dc29a",
   "metadata": {},
   "source": [
    "6. analyze GPA spread based on extracurricular activity participation "
   ]
  },
  {
   "cell_type": "code",
   "execution_count": 50,
   "id": "14e88bf1",
   "metadata": {},
   "outputs": [
    {
     "data": {
      "image/png": "[encoded data removed]",
      "text/plain": [
       "<Figure size 800x400 with 1 Axes>"
      ]
     },
     "metadata": {},
     "output_type": "display_data"
    }
   ],
   "source": [
    "plt.figure(figsize=(8, 4))\n",
    "sns.boxplot(data=df, hue='Extracurricular', y='GPA', palette='Set2')\n",
    "plt.title('GPA Distribution by Extracurricular Involvement')\n",
    "plt.xlabel('Extracurricular Activities')\n",
    "plt.ylabel('GPA')\n",
    "plt.show()\n"
   ]
  },
  {
   "cell_type": "markdown",
   "id": "ff99df48",
   "metadata": {},
   "source": [
    "Observation:\n",
    "\n",
    "---> The boxplot shows that students who participate in extracurricular activities generally have a slightly higher median GPA than those who don’t. \n",
    "\n",
    "---> While both groups have a similar spread of scores, non-participants show more lower-end outliers, suggesting that involvement in activities may be linked to better academic consistency."
   ]
  },
  {
   "cell_type": "markdown",
   "id": "f31e137d",
   "metadata": {},
   "source": [
    "7. visualize correlations between numerical variables using a heatmap?"
   ]
  },
  {
   "cell_type": "code",
   "execution_count": 51,
   "id": "49b3f1e7",
   "metadata": {},
   "outputs": [
    {
     "data": {
      "image/png": "[encoded data removed]",
      "text/plain": [
       "<Figure size 800x500 with 2 Axes>"
      ]
     },
     "metadata": {},
     "output_type": "display_data"
    }
   ],
   "source": [
    "plt.figure(figsize=(8, 5))\n",
    "numeric_cols = df[['Age', 'StudyTimeWeekly', 'Absences', 'GPA']]\n",
    "\n",
    "sns.heatmap(numeric_cols.corr(), annot=True, cmap='coolwarm', fmt='.2f', linewidths=0.5)\n",
    "plt.title('Correlation Heatmap of Numeric Features')\n",
    "plt.show()\n"
   ]
  },
  {
   "cell_type": "markdown",
   "id": "622dfdff",
   "metadata": {},
   "source": [
    "Observation:\n",
    "\n",
    "---> Studytimeweekly shows a positive correlation with GPA, suggesting more study = better performance.\n",
    "\n",
    "---> Absences has a slight negative correlation with GPA, indicating that frequent absences may reduce performance.\n",
    "\n",
    "---> Age has very weak or no correlation with GPA."
   ]
  },
  {
   "cell_type": "markdown",
   "id": "81dfe339",
   "metadata": {},
   "source": [
    "8. How much time do students from different grade classes spend on studying?"
   ]
  },
  {
   "cell_type": "code",
   "execution_count": 54,
   "id": "c3985b2d",
   "metadata": {},
   "outputs": [
    {
     "data": {
      "image/png": "[encoded data removed]",
      "text/plain": [
       "<Figure size 800x400 with 1 Axes>"
      ]
     },
     "metadata": {},
     "output_type": "display_data"
    }
   ],
   "source": [
    "plt.figure(figsize=(8, 4))\n",
    "bar = sns.barplot(data=df, hue='GradeClass', y='StudyTimeWeekly', palette='Set3')\n",
    "\n",
    "for container in bar.containers:\n",
    "    bar.bar_label(container, fmt='%.2f', label_type='edge', padding=3)\n",
    "\n",
    "plt.title('Average Study Time by Grade Class')\n",
    "plt.xlabel('Grade Class')\n",
    "plt.ylabel('Average Study Time (hrs/week)')\n",
    "plt.tight_layout()\n",
    "plt.show()\n",
    "\n"
   ]
  },
  {
   "cell_type": "markdown",
   "id": "f8ccd67f",
   "metadata": {},
   "source": [
    "Observation:\n",
    "\n",
    "---> Higher-grade students (e.g., Grade A, B) tend to spend more time studying weekly.\n",
    "\n",
    "---> Lower-grade students show less study time, indicating a direct influence on GPA."
   ]
  },
  {
   "cell_type": "markdown",
   "id": "dfaa8c54",
   "metadata": {},
   "source": [
    "9. What is the relationship between absences and GPA?"
   ]
  },
  {
   "cell_type": "code",
   "execution_count": 55,
   "id": "296f4a13",
   "metadata": {},
   "outputs": [
    {
     "data": {
      "image/png": "[encoded data removed]",
      "text/plain": [
       "<Figure size 800x400 with 1 Axes>"
      ]
     },
     "metadata": {},
     "output_type": "display_data"
    }
   ],
   "source": [
    "plt.figure(figsize=(8, 4))\n",
    "sns.scatterplot(data=df, x='Absences', y='GPA', color='purple')\n",
    "plt.title('Absences vs GPA')\n",
    "plt.xlabel('Absences')\n",
    "plt.ylabel('GPA')\n",
    "plt.show()\n"
   ]
  },
  {
   "cell_type": "markdown",
   "id": "3433a914",
   "metadata": {},
   "source": [
    "Observation:\n",
    "\n",
    "---> As absences increase, GPA tends to decrease slightly.\n",
    "\n",
    "---> High absences are associated with lower academic performance."
   ]
  },
  {
   "cell_type": "markdown",
   "id": "47984638",
   "metadata": {},
   "source": [
    "# CONCLUSION"
   ]
  },
  {
   "cell_type": "markdown",
   "id": "e45435fb",
   "metadata": {},
   "source": [
    "This analysis explored the academic performance of students based on factors like study habits, tutoring, extracurricular involvement, and parental background.\n",
    "\n",
    "--> Students with consistent study hours tend to achieve higher GPA scores.\n",
    "\n",
    "---> Tutoring support is associated with an improvement in academic performance.\n",
    "\n",
    "---> Participation in extracurricular activities shows a positive impact on GPA and academic consistency.\n",
    "\n",
    "---> Students with fewer absences generally perform better academically.\n",
    "\n",
    "---> Parental education level appears to influence student performance — higher education = better outcomes.\n",
    "\n",
    "---> Overall, a balance of study discipline, external support, and co-curricular involvement leads to better student success."
   ]
  }
 ],
 "metadata": {
  "kernelspec": {
   "display_name": "Python 3",
   "language": "python",
   "name": "python3"
  },
  "language_info": {
   "codemirror_mode": {
    "name": "ipython",
    "version": 3
   },
   "file_extension": ".py",
   "mimetype": "text/x-python",
   "name": "python",
   "nbconvert_exporter": "python",
   "pygments_lexer": "ipython3",
   "version": "3.12.6"
  }
 },
 "nbformat": 4,
 "nbformat_minor": 5
}
